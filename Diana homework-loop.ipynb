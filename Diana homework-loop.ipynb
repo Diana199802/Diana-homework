{
 "cells": [
  {
   "cell_type": "code",
   "execution_count": 1,
   "metadata": {},
   "outputs": [
    {
     "name": "stdout",
     "output_type": "stream",
     "text": [
      "0\n",
      "1\n",
      "2\n",
      "3\n",
      "4\n",
      "5\n",
      "6\n",
      "7\n",
      "8\n",
      "9\n",
      "10\n"
     ]
    }
   ],
   "source": [
    "for i in range(0,11):\n",
    "    print(i)"
   ]
  },
  {
   "cell_type": "code",
   "execution_count": 2,
   "metadata": {},
   "outputs": [
    {
     "name": "stdout",
     "output_type": "stream",
     "text": [
      "0\n",
      "1\n",
      "2\n",
      "3\n",
      "4\n",
      "5\n",
      "6\n",
      "7\n",
      "8\n",
      "9\n",
      "10\n"
     ]
    }
   ],
   "source": [
    "count = 0\n",
    "while count < 10:\n",
    "    print(count)\n",
    "    count = count + 1\n",
    "else:\n",
    "    print(count)"
   ]
  },
  {
   "cell_type": "code",
   "execution_count": 3,
   "metadata": {},
   "outputs": [
    {
     "name": "stdout",
     "output_type": "stream",
     "text": [
      "10\n",
      "9\n",
      "8\n",
      "7\n",
      "6\n",
      "5\n",
      "4\n",
      "3\n",
      "2\n",
      "1\n",
      "0\n"
     ]
    }
   ],
   "source": [
    "for i in (range(10,-1,-1)):\n",
    "          print(i)"
   ]
  },
  {
   "cell_type": "code",
   "execution_count": 4,
   "metadata": {},
   "outputs": [
    {
     "name": "stdout",
     "output_type": "stream",
     "text": [
      "10\n",
      "9\n",
      "8\n",
      "7\n",
      "6\n",
      "5\n",
      "4\n",
      "3\n",
      "2\n",
      "1\n",
      "0\n"
     ]
    }
   ],
   "source": [
    "i=10\n",
    "while i>=0:\n",
    "    print(i)\n",
    "    i=i-1"
   ]
  },
  {
   "cell_type": "code",
   "execution_count": 7,
   "metadata": {},
   "outputs": [
    {
     "name": "stdout",
     "output_type": "stream",
     "text": [
      "# # # # # # # #  \n",
      "# # # # # # # #  \n",
      "# # # # # # # #  \n",
      "# # # # # # # #  \n",
      "# # # # # # # #  \n",
      "# # # # # # # #  \n",
      "# # # # # # # #  \n",
      "# # # # # # # #  \n"
     ]
    }
   ],
   "source": [
    "rows=8\n",
    "for i in range (8):\n",
    "    for j in range (8):\n",
    "        print(\"#\",end=\" \")\n",
    "    print(\" \")"
   ]
  },
  {
   "cell_type": "code",
   "execution_count": 3,
   "metadata": {},
   "outputs": [
    {
     "name": "stdout",
     "output_type": "stream",
     "text": [
      "* \n",
      "* * \n",
      "* * * \n",
      "* * * * \n",
      "* * * * * \n",
      "* * * * * * \n",
      "* * * * * * * \n"
     ]
    }
   ],
   "source": [
    "rows = 7\n",
    "for i in range(1, rows + 1):    # outer loop    \n",
    "    for j in range(1, i+1):   # inner loop\n",
    "        print(\"*\", end=\" \")\n",
    "    print('')"
   ]
  },
  {
   "cell_type": "code",
   "execution_count": 7,
   "metadata": {},
   "outputs": [
    {
     "name": "stdout",
     "output_type": "stream",
     "text": [
      "0 * 0 = 0\n",
      "1 * 1 = 1\n",
      "2 * 2 = 4\n",
      "3 * 3 = 9\n",
      "4 * 4 = 16\n",
      "5 * 5 = 25\n",
      "6 * 6 = 36\n",
      "7 * 7 = 49\n",
      "8 * 8 = 64\n",
      "9 * 9 = 81\n",
      "10 * 10 = 100\n"
     ]
    }
   ],
   "source": [
    "for i in range (0,11):\n",
    "    for j in range (0,11):\n",
    "        if i!=j:\n",
    "            continue\n",
    "        print(i , '*' , j ,'=', i*j)"
   ]
  },
  {
   "cell_type": "code",
   "execution_count": 13,
   "metadata": {},
   "outputs": [
    {
     "name": "stdout",
     "output_type": "stream",
     "text": [
      "Python\n",
      "Numpy\n",
      "Pandas\n",
      "Scikit\n",
      "Pytorch\n"
     ]
    }
   ],
   "source": [
    "list=[\"Python\",\"Numpy\",\"Pandas\",\"Scikit\",\"Pytorch\"]\n",
    "for i in list:\n",
    "    print(i)"
   ]
  },
  {
   "cell_type": "code",
   "execution_count": 2,
   "metadata": {},
   "outputs": [
    {
     "name": "stdout",
     "output_type": "stream",
     "text": [
      "Odd Number: 1\n",
      "Even Number: 2\n",
      "Odd Number: 3\n",
      "Even Number: 4\n",
      "Odd Number: 5\n",
      "Even Number: 6\n",
      "Odd Number: 7\n",
      "Even Number: 8\n",
      "Odd Number: 9\n",
      "Even Number: 10\n",
      "Odd Number: 11\n",
      "Even Number: 12\n",
      "Odd Number: 13\n",
      "Even Number: 14\n",
      "Odd Number: 15\n",
      "Even Number: 16\n",
      "Odd Number: 17\n",
      "Even Number: 18\n",
      "Odd Number: 19\n",
      "Even Number: 20\n",
      "Odd Number: 21\n",
      "Even Number: 22\n",
      "Odd Number: 23\n",
      "Even Number: 24\n",
      "Odd Number: 25\n",
      "Even Number: 26\n",
      "Odd Number: 27\n",
      "Even Number: 28\n",
      "Odd Number: 29\n",
      "Even Number: 30\n",
      "Odd Number: 31\n",
      "Even Number: 32\n",
      "Odd Number: 33\n",
      "Even Number: 34\n",
      "Odd Number: 35\n",
      "Even Number: 36\n",
      "Odd Number: 37\n",
      "Even Number: 38\n",
      "Odd Number: 39\n",
      "Even Number: 40\n",
      "Odd Number: 41\n",
      "Even Number: 42\n",
      "Odd Number: 43\n",
      "Even Number: 44\n",
      "Odd Number: 45\n",
      "Even Number: 46\n",
      "Odd Number: 47\n",
      "Even Number: 48\n",
      "Odd Number: 49\n",
      "Even Number: 50\n",
      "Odd Number: 51\n",
      "Even Number: 52\n",
      "Odd Number: 53\n",
      "Even Number: 54\n",
      "Odd Number: 55\n",
      "Even Number: 56\n",
      "Odd Number: 57\n",
      "Even Number: 58\n",
      "Odd Number: 59\n",
      "Even Number: 60\n",
      "Odd Number: 61\n",
      "Even Number: 62\n",
      "Odd Number: 63\n",
      "Even Number: 64\n",
      "Odd Number: 65\n",
      "Even Number: 66\n",
      "Odd Number: 67\n",
      "Even Number: 68\n",
      "Odd Number: 69\n",
      "Even Number: 70\n",
      "Odd Number: 71\n",
      "Even Number: 72\n",
      "Odd Number: 73\n",
      "Even Number: 74\n",
      "Odd Number: 75\n",
      "Even Number: 76\n",
      "Odd Number: 77\n",
      "Even Number: 78\n",
      "Odd Number: 79\n",
      "Even Number: 80\n",
      "Odd Number: 81\n",
      "Even Number: 82\n",
      "Odd Number: 83\n",
      "Even Number: 84\n",
      "Odd Number: 85\n",
      "Even Number: 86\n",
      "Odd Number: 87\n",
      "Even Number: 88\n",
      "Odd Number: 89\n",
      "Even Number: 90\n",
      "Odd Number: 91\n",
      "Even Number: 92\n",
      "Odd Number: 93\n",
      "Even Number: 94\n",
      "Odd Number: 95\n",
      "Even Number: 96\n",
      "Odd Number: 97\n",
      "Even Number: 98\n",
      "Odd Number: 99\n",
      "Even Number: 100\n"
     ]
    }
   ],
   "source": [
    "for i in range (1,101):\n",
    "    if i%2==0:\n",
    "        print('Even Number:', i)\n",
    "    else:\n",
    "        print('Odd Number:', i)"
   ]
  },
  {
   "cell_type": "code",
   "execution_count": 3,
   "metadata": {},
   "outputs": [
    {
     "name": "stdout",
     "output_type": "stream",
     "text": [
      "5050\n"
     ]
    }
   ],
   "source": [
    "total=0\n",
    "for i in range(0,101):\n",
    "    total=total+i\n",
    "print(total)"
   ]
  },
  {
   "cell_type": "code",
   "execution_count": 1,
   "metadata": {},
   "outputs": [
    {
     "name": "stdout",
     "output_type": "stream",
     "text": [
      "2550\n",
      "2500\n"
     ]
    }
   ],
   "source": [
    "num_1=[]\n",
    "num_2=[]\n",
    "for i in range (1,101):\n",
    "    if i%2==0:\n",
    "        num_1.append(i)\n",
    "    else:\n",
    "        num_2.append(i)\n",
    "total=0\n",
    "for i in num_1:\n",
    "    total=total+i\n",
    "print(total)\n",
    "sum=0\n",
    "for i in num_2:\n",
    "    sum=sum+i\n",
    "print(sum)"
   ]
  },
  {
   "cell_type": "code",
   "execution_count": 4,
   "metadata": {},
   "outputs": [
    {
     "name": "stdout",
     "output_type": "stream",
     "text": [
      "lemon\n",
      "mango\n",
      "orange\n",
      "banana\n"
     ]
    }
   ],
   "source": [
    "list=['banana', 'orange', 'mango', 'lemon']\n",
    "for i in reversed(list):\n",
    "    print(i)"
   ]
  },
  {
   "cell_type": "code",
   "execution_count": null,
   "metadata": {},
   "outputs": [],
   "source": []
  }
 ],
 "metadata": {
  "kernelspec": {
   "display_name": "Python 3",
   "language": "python",
   "name": "python3"
  },
  "language_info": {
   "codemirror_mode": {
    "name": "ipython",
    "version": 3
   },
   "file_extension": ".py",
   "mimetype": "text/x-python",
   "name": "python",
   "nbconvert_exporter": "python",
   "pygments_lexer": "ipython3",
   "version": "3.8.3"
  }
 },
 "nbformat": 4,
 "nbformat_minor": 4
}
