{
 "cells": [
  {
   "cell_type": "code",
   "execution_count": 35,
   "metadata": {},
   "outputs": [
    {
     "name": "stdout",
     "output_type": "stream",
     "text": [
      "apple,orange,pear,peach,\n"
     ]
    }
   ],
   "source": [
    "my_tuple1 = ('apple,orange,pear,peach,')\n",
    "print(my_tuple1)"
   ]
  },
  {
   "cell_type": "code",
   "execution_count": 36,
   "metadata": {},
   "outputs": [
    {
     "name": "stdout",
     "output_type": "stream",
     "text": [
      "cabbage,Baby Cabbage,Potato,Carrot,Onion \n"
     ]
    }
   ],
   "source": [
    "my_tuple2 = ('cabbage,Baby Cabbage,Potato,Carrot,Onion ')\n",
    "print(my_tuple2)"
   ]
  },
  {
   "cell_type": "code",
   "execution_count": 37,
   "metadata": {},
   "outputs": [
    {
     "name": "stdout",
     "output_type": "stream",
     "text": [
      "apple,orange,pear,peach,cabbage,Baby Cabbage,Potato,Carrot,Onion \n"
     ]
    }
   ],
   "source": [
    "t1=(my_tuple1)\n",
    "t2=(my_tuple2)\n",
    "fruits_vegetables=t1+t2\n",
    "print(fruits_vegetables)"
   ]
  },
  {
   "cell_type": "code",
   "execution_count": 38,
   "metadata": {},
   "outputs": [
    {
     "name": "stdout",
     "output_type": "stream",
     "text": [
      "65\n"
     ]
    }
   ],
   "source": [
    "t1=(my_tuple1)\n",
    "t2=(my_tuple2)\n",
    "fruits_vegetables=t1+t2\n",
    "print(len(fruits_vegetables))"
   ]
  },
  {
   "cell_type": "code",
   "execution_count": 15,
   "metadata": {},
   "outputs": [
    {
     "name": "stdout",
     "output_type": "stream",
     "text": [
      "('apple', 'orange', 'pear', ['orange juice'], ['cabbage'], ['Needle mushroom'], 'Potato', 'Carrot', 'Onion')\n"
     ]
    }
   ],
   "source": [
    "fruits_vegetables=('apple','orange','pear',['peach'],['cabbage'],['Baby Cabbage'],'Potato','Carrot','Onion',)\n",
    "fruits_vegetables[3][0]=(\"orange juice\")\n",
    "fruits_vegetables[5][0]=(\"Needle mushroom\")\n",
    "print(fruits_vegetables)"
   ]
  },
  {
   "cell_type": "code",
   "execution_count": 18,
   "metadata": {},
   "outputs": [
    {
     "name": "stdout",
     "output_type": "stream",
     "text": [
      "['Needle mushroom']\n",
      "['orange juice']\n"
     ]
    }
   ],
   "source": [
    "print(fruits_vegetables[5])\n",
    "print(fruits_vegetables[3])"
   ]
  },
  {
   "cell_type": "code",
   "execution_count": 19,
   "metadata": {},
   "outputs": [
    {
     "name": "stdout",
     "output_type": "stream",
     "text": [
      "['apple', 'orange', 'pear', ['orange juice'], ['cabbage'], ['Needle mushroom'], 'Potato', 'Carrot', 'Onion']\n"
     ]
    }
   ],
   "source": [
    "print(list(fruits_vegetables))"
   ]
  },
  {
   "cell_type": "code",
   "execution_count": 27,
   "metadata": {},
   "outputs": [
    {
     "name": "stdout",
     "output_type": "stream",
     "text": [
      "('apple', 'orange', 'pear', ['orange juice'], ['cabbage'], ['Needle mushroom'])\n"
     ]
    }
   ],
   "source": [
    "print(fruits_vegetables[:-3])"
   ]
  },
  {
   "cell_type": "code",
   "execution_count": 29,
   "metadata": {},
   "outputs": [
    {
     "name": "stdout",
     "output_type": "stream",
     "text": [
      "(['orange juice'], ['cabbage'], ['Needle mushroom'], 'Potato', 'Carrot', 'Onion')\n"
     ]
    }
   ],
   "source": [
    "print(fruits_vegetables[3:])"
   ]
  },
  {
   "cell_type": "code",
   "execution_count": 34,
   "metadata": {},
   "outputs": [],
   "source": [
    "my_tuple1 = ('apple,orange,pear,peach,')\n",
    "my_tuple2 = ('cabbage,Baby Cabbage,Potato,Carrot,Onion ')\n",
    "t1=(my_tuple1)\n",
    "t2=(my_tuple2)\n",
    "fruits_vegetables=t1+t2\n",
    "del fruits_vegetables"
   ]
  },
  {
   "cell_type": "code",
   "execution_count": 36,
   "metadata": {},
   "outputs": [
    {
     "name": "stdout",
     "output_type": "stream",
     "text": [
      "False\n"
     ]
    }
   ],
   "source": [
    "my_tuple = ('India','China','Singapore','Thailand','Indonesia')\n",
    "print('Finland' in my_tuple)"
   ]
  },
  {
   "cell_type": "code",
   "execution_count": 37,
   "metadata": {},
   "outputs": [
    {
     "name": "stdout",
     "output_type": "stream",
     "text": [
      "True\n"
     ]
    }
   ],
   "source": [
    "print('India' in my_tuple)"
   ]
  }
 ],
 "metadata": {
  "kernelspec": {
   "display_name": "Python 3",
   "language": "python",
   "name": "python3"
  },
  "language_info": {
   "codemirror_mode": {
    "name": "ipython",
    "version": 3
   },
   "file_extension": ".py",
   "mimetype": "text/x-python",
   "name": "python",
   "nbconvert_exporter": "python",
   "pygments_lexer": "ipython3",
   "version": "3.8.3"
  }
 },
 "nbformat": 4,
 "nbformat_minor": 4
}
