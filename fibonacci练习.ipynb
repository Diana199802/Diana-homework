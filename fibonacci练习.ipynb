{
 "cells": [
  {
   "cell_type": "code",
   "execution_count": 14,
   "id": "d5b84e51",
   "metadata": {},
   "outputs": [
    {
     "name": "stdout",
     "output_type": "stream",
     "text": [
      "2\n"
     ]
    }
   ],
   "source": [
    "def fib(n):\n",
    "    if n==1 or n==2:\n",
    "        return (1)\n",
    "    else:\n",
    "        return fib(n-1)+fib(n-2)\n",
    "print(fib(3))"
   ]
  },
  {
   "cell_type": "code",
   "execution_count": 1,
   "id": "e14c1c43",
   "metadata": {},
   "outputs": [
    {
     "name": "stdout",
     "output_type": "stream",
     "text": [
      "8\n"
     ]
    }
   ],
   "source": [
    "def fib(n):\n",
    "    if n==1 or n==2:\n",
    "        return (1)\n",
    "    else:\n",
    "        return fib(n-1)+fib(n-2)\n",
    "print(fib(6))\n",
    "#斐波那契数列 1，1，2，3，5，8，13，21，34\n",
    "#n为正常数数数位"
   ]
  },
  {
   "cell_type": "code",
   "execution_count": null,
   "id": "918b5d18",
   "metadata": {},
   "outputs": [],
   "source": [
    "def fibonacci1(n):\n",
    "    lis=[]\n",
    "    i=0\n",
    "    while i<n:\n",
    "        if i%2!=0:\n",
    "            lis.append(i)\n",
    "    print(lis)\n",
    "fibonacci1(100)"
   ]
  }
 ],
 "metadata": {
  "kernelspec": {
   "display_name": "Python 3",
   "language": "python",
   "name": "python3"
  },
  "language_info": {
   "codemirror_mode": {
    "name": "ipython",
    "version": 3
   },
   "file_extension": ".py",
   "mimetype": "text/x-python",
   "name": "python",
   "nbconvert_exporter": "python",
   "pygments_lexer": "ipython3",
   "version": "3.8.8"
  }
 },
 "nbformat": 4,
 "nbformat_minor": 5
}
