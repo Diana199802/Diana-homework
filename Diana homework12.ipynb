{
 "cells": [
  {
   "cell_type": "code",
   "execution_count": 2,
   "metadata": {},
   "outputs": [
    {
     "name": "stdout",
     "output_type": "stream",
     "text": [
      "24\n"
     ]
    },
    {
     "data": {
      "text/plain": [
       "int"
      ]
     },
     "execution_count": 2,
     "metadata": {},
     "output_type": "execute_result"
    }
   ],
   "source": [
    "integer_test=24\n",
    "print(integer_test)\n",
    "type(integer_test)"
   ]
  },
  {
   "cell_type": "code",
   "execution_count": 3,
   "metadata": {},
   "outputs": [
    {
     "name": "stdout",
     "output_type": "stream",
     "text": [
      "163\n"
     ]
    },
    {
     "data": {
      "text/plain": [
       "int"
      ]
     },
     "execution_count": 3,
     "metadata": {},
     "output_type": "execute_result"
    }
   ],
   "source": [
    "float_test=163\n",
    "print(float_test)\n",
    "type(float_test)"
   ]
  },
  {
   "cell_type": "code",
   "execution_count": 4,
   "metadata": {},
   "outputs": [
    {
     "name": "stdout",
     "output_type": "stream",
     "text": [
      "(3+1j)\n"
     ]
    }
   ],
   "source": [
    "a=complex(3,1)\n",
    "print(a)"
   ]
  },
  {
   "cell_type": "code",
   "execution_count": 17,
   "metadata": {},
   "outputs": [
    {
     "name": "stdout",
     "output_type": "stream",
     "text": [
      "100.0\n"
     ]
    }
   ],
   "source": [
    "import math\n",
    "b=float(20)\n",
    "h=float(10)\n",
    "area = 1/2 * b * h\n",
    "print(area)"
   ]
  },
  {
   "cell_type": "code",
   "execution_count": 18,
   "metadata": {},
   "outputs": [
    {
     "name": "stdout",
     "output_type": "stream",
     "text": [
      "base: 20\n",
      "height10\n",
      "100.0\n"
     ]
    }
   ],
   "source": [
    "num_1 = int(input(\"base: \"))\n",
    "num_2 = int(input(\"height\"))\n",
    "import math\n",
    "if(num>= 0):\n",
    "\tprint(0.5*num_1*num_2)"
   ]
  },
  {
   "cell_type": "code",
   "execution_count": 21,
   "metadata": {
    "scrolled": true
   },
   "outputs": [
    {
     "name": "stdout",
     "output_type": "stream",
     "text": [
      "a=5\n",
      "b=4\n",
      "c=3\n",
      "12\n"
     ]
    }
   ],
   "source": [
    "import math\n",
    "a=int(input(\"a=\"))\n",
    "b=int(input(\"b=\"))\n",
    "c=int(input(\"c=\"))\n",
    "perimeter=a+b+c\n",
    "print(perimeter)"
   ]
  },
  {
   "cell_type": "code",
   "execution_count": 1,
   "metadata": {
    "scrolled": true
   },
   "outputs": [
    {
     "name": "stdout",
     "output_type": "stream",
     "text": [
      "length: 5\n",
      "width:4\n",
      "area= 20\n",
      "perimeter= 18\n"
     ]
    }
   ],
   "source": [
    "import math\n",
    "num_1 = int(input(\"length: \"))\n",
    "num_2= int(input(\"width:\"))\n",
    "print('area=',num_1*num_2)\n",
    "print('perimeter=',2*(num_1+num_2))"
   ]
  },
  {
   "cell_type": "code",
   "execution_count": 11,
   "metadata": {},
   "outputs": [
    {
     "name": "stdout",
     "output_type": "stream",
     "text": [
      "根据a*x^2+b*x+c=0,在a≠0的情况下，有两个根，x1=（-b+√（b^2-4ac）/2a和x2=(-b-√(b^2-4ac))/2a）\n",
      "2x^2+3x+1=0的根是多少\n",
      "输入a、b、c对应的三个数，用空格隔开,a≠0：1 6 9\n",
      "x1= -3.00\n",
      "x2= -3.00\n"
     ]
    }
   ],
   "source": [
    "from math import *\n",
    "print(\"根据a*x^2+b*x+c=0,在a≠0的情况下，有两个根，x1=（-b+√（b^2-4ac）/2a和x2=(-b-√(b^2-4ac))/2a）\\n2x^2+3x+1=0的根是多少\")\n",
    "while 1:\n",
    "    try:\n",
    "        a,b,c=input(\"输入a、b、c对应的三个数，用空格隔开,a≠0：\").split()\n",
    "    except:\"\"\n",
    "    else:\n",
    "        try:\n",
    "            a=float(a)\n",
    "            b=float(b)\n",
    "            c=float(c)\n",
    "        except:\"\"\n",
    "        else:\n",
    "            if a!=0:break\n",
    "if b**2-4*a*c<0:\n",
    "    print(\"该方程没有实根\")\n",
    "else:\n",
    "    x1=(-b+sqrt(b**2-4*a*c))/(2*a)\n",
    "    x2=(-b-sqrt(b**2-4*a*c))/(2*a)\n",
    "    print(\"x1=%6.2f\\nx2=%6.2f\"%(x1,x2))"
   ]
  },
  {
   "cell_type": "code",
   "execution_count": 12,
   "metadata": {},
   "outputs": [
    {
     "name": "stdout",
     "output_type": "stream",
     "text": [
      "k= 2.0\n"
     ]
    }
   ],
   "source": [
    "x1,y1,x2,y2=2,2,6,10\n",
    "slope=(y2-y1)/(x2-x1)\n",
    "print(\"k=\",(y2-y1)/(x2-x1))"
   ]
  },
  {
   "cell_type": "code",
   "execution_count": 14,
   "metadata": {},
   "outputs": [
    {
     "name": "stdout",
     "output_type": "stream",
     "text": [
      "8.94427190999916\n"
     ]
    }
   ],
   "source": [
    "import math\n",
    "def eucliDist(A,B):\n",
    "    return math.sqrt(sum([(a - b)**2 for (a,b) in zip(A,B)]))\n",
    "X = (2,2)\n",
    "Y =(6,10)\n",
    "print(eucliDist(X,Y))"
   ]
  },
  {
   "cell_type": "code",
   "execution_count": 25,
   "metadata": {},
   "outputs": [
    {
     "name": "stdout",
     "output_type": "stream",
     "text": [
      "R=5\n",
      "area= 78.5\n",
      "perimeter= 31.400000000000002\n"
     ]
    }
   ],
   "source": [
    "import math\n",
    "pi=3.14\n",
    "a=float(input(\"R=\"))\n",
    "print('area=',pi*a*a)\n",
    "print('perimeter=',2*pi*a)"
   ]
  },
  {
   "cell_type": "code",
   "execution_count": 7,
   "metadata": {},
   "outputs": [
    {
     "name": "stdout",
     "output_type": "stream",
     "text": [
      "python 6\n",
      "datascience 11\n"
     ]
    }
   ],
   "source": [
    "python='python'\n",
    "print('python', len(python))\n",
    "datascience='datascience'\n",
    "print('datascience', len(datascience))"
   ]
  },
  {
   "cell_type": "code",
   "execution_count": 8,
   "metadata": {},
   "outputs": [
    {
     "name": "stdout",
     "output_type": "stream",
     "text": [
      "True\n"
     ]
    }
   ],
   "source": [
    "x='python&cannon'\n",
    "print('on' in x)"
   ]
  },
  {
   "cell_type": "code",
   "execution_count": 9,
   "metadata": {},
   "outputs": [
    {
     "name": "stdout",
     "output_type": "stream",
     "text": [
      "True\n"
     ]
    }
   ],
   "source": [
    "x='I hope this course is not full of jargon'\n",
    "print('jargon'in x)"
   ]
  },
  {
   "cell_type": "code",
   "execution_count": 10,
   "metadata": {},
   "outputs": [
    {
     "name": "stdout",
     "output_type": "stream",
     "text": [
      "False\n",
      "False\n"
     ]
    }
   ],
   "source": [
    "x='python'\n",
    "y='cannon'\n",
    "print('On' in x)\n",
    "print('On' in y)"
   ]
  },
  {
   "cell_type": "code",
   "execution_count": 11,
   "metadata": {},
   "outputs": [
    {
     "name": "stdout",
     "output_type": "stream",
     "text": [
      "python 6\n",
      "6.0\n",
      "6\n"
     ]
    }
   ],
   "source": [
    "python='python'\n",
    "print('python', len(python))\n",
    "print(float( len(python)))\n",
    "print(str( len(python)))"
   ]
  },
  {
   "cell_type": "code",
   "execution_count": 12,
   "metadata": {},
   "outputs": [
    {
     "name": "stdout",
     "output_type": "stream",
     "text": [
      "enter a number: 67\n",
      "number is odd\n"
     ]
    }
   ],
   "source": [
    "num = int(input(\"enter a number: \"))\n",
    " \n",
    "if(num%2 == 0):\n",
    "\tprint(\"number is even\")\n",
    "else:\n",
    "\tprint(\"number is odd\")"
   ]
  },
  {
   "cell_type": "code",
   "execution_count": 13,
   "metadata": {},
   "outputs": [
    {
     "data": {
      "text/plain": [
       "2"
      ]
     },
     "execution_count": 13,
     "metadata": {},
     "output_type": "execute_result"
    }
   ],
   "source": [
    "x=7/3\n",
    "int(x)"
   ]
  },
  {
   "cell_type": "code",
   "execution_count": 14,
   "metadata": {},
   "outputs": [
    {
     "name": "stdout",
     "output_type": "stream",
     "text": [
      "hour: 40\n",
      "rate per hour: 30\n",
      "1200\n"
     ]
    }
   ],
   "source": [
    "num_1= int(input(\"hour: \"))\n",
    "num_2=int(input(\"rate per hour: \"))\n",
    "import math\n",
    "if(num_1>= 0,num_2>=0):\n",
    "\tprint(num_1*num_2)\n",
    "else:\n",
    "\tprint(\"false\")"
   ]
  },
  {
   "cell_type": "code",
   "execution_count": 15,
   "metadata": {},
   "outputs": [
    {
     "name": "stdout",
     "output_type": "stream",
     "text": [
      "enter a number: 100\n",
      "3153600000\n"
     ]
    }
   ],
   "source": [
    "num = int(input(\"enter a number: \"))\n",
    "import math\n",
    "\n",
    "if(num>= 0):\n",
    "\tprint(num*365*24*60*60)"
   ]
  },
  {
   "cell_type": "code",
   "execution_count": 16,
   "metadata": {},
   "outputs": [
    {
     "name": "stdout",
     "output_type": "stream",
     "text": [
      "1 2 3 4 5\n",
      "2 4 6 8 10\n",
      "3 6 9 12 15\n",
      "4 8 12 16 20\n",
      "5 10 15 20 15\n"
     ]
    }
   ],
   "source": [
    "print (\"1 2 3 4 5\\n2 4 6 8 10\\n3 6 9 12 15\\n4 8 12 16 20\\n5 10 15 20 15\")"
   ]
  },
  {
   "cell_type": "code",
   "execution_count": null,
   "metadata": {},
   "outputs": [],
   "source": []
  }
 ],
 "metadata": {
  "kernelspec": {
   "display_name": "Python 3",
   "language": "python",
   "name": "python3"
  },
  "language_info": {
   "codemirror_mode": {
    "name": "ipython",
    "version": 3
   },
   "file_extension": ".py",
   "mimetype": "text/x-python",
   "name": "python",
   "nbconvert_exporter": "python",
   "pygments_lexer": "ipython3",
   "version": "3.8.3"
  }
 },
 "nbformat": 4,
 "nbformat_minor": 4
}
